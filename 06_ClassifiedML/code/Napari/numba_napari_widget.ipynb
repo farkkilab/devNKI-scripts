{
 "cells": [
  {
   "cell_type": "code",
   "execution_count": 1,
   "metadata": {},
   "outputs": [],
   "source": [
    "from numba import njit, prange\n",
    "import numpy as np\n",
    "import pandas as pd\n",
    "import tifffile as tiff\n",
    "import zarr\n",
    "import napari\n",
    "import random\n",
    "import dask.array as da\n",
    "from dask.cache import Cache\n",
    "import zarr\n",
    "import os\n",
    "import numpy as np\n",
    "from pathlib import Path\n",
    "from magicgui import magicgui\n",
    "import ast\n",
    "import distinctipy \n",
    "import enum"
   ]
  },
  {
   "cell_type": "code",
   "execution_count": 2,
   "metadata": {},
   "outputs": [],
   "source": [
    "viewer = napari.Viewer()"
   ]
  },
  {
   "cell_type": "code",
   "execution_count": 3,
   "metadata": {},
   "outputs": [
    {
     "data": {
      "text/plain": [
       "<napari._qt.widgets.qt_viewer_dock_widget.QtViewerDockWidget at 0x1e6b56c1430>"
      ]
     },
     "execution_count": 3,
     "metadata": {},
     "output_type": "execute_result"
    }
   ],
   "source": [
    "@magicgui(call_button='Open image')\n",
    "def open_image(impath = Path(), channel_list=Path()):\n",
    "    image = tiff.TiffFile(impath, is_ome = False)\n",
    "    z = zarr.open(image.aszarr(), mode='r')\n",
    "    n_levels = len(image.series[0].levels) # pyramid\n",
    "\n",
    "    # If and if not pyramids are available\n",
    "    if n_levels > 1:\n",
    "        pyramid = [da.from_zarr(z[i]) for i in range(n_levels)]\n",
    "        multiscale = True\n",
    "    else:\n",
    "        pyramid = da.from_zarr(z)\n",
    "        multiscale = False \n",
    "        \n",
    "    if channel_list == '.':\n",
    "        viewer.add_image(pyramid, multiscale=multiscale, channel_axis=0, visible=False, contrast_limits=(0,65535))\n",
    "    else:\n",
    "        list_df = pd.read_excel(channel_list)\n",
    "        clist = list(list_df.loc[:, 'Channel_name'])\n",
    "        viewer.add_image(pyramid, multiscale=multiscale, channel_axis=0, visible=False, contrast_limits=(0,65535), name=clist)\n",
    "\n",
    "viewer.window.add_dock_widget(open_image)"
   ]
  },
  {
   "cell_type": "code",
   "execution_count": 4,
   "metadata": {},
   "outputs": [],
   "source": [
    "@njit(parallel=True)\n",
    "def filter_array(m_array, mapping_array):\n",
    "    array = m_array.copy()\n",
    "    rows, cols = array.shape\n",
    "    for i in prange(rows):\n",
    "        for j in range(cols):\n",
    "            if array[i, j] != 0:\n",
    "                array[i, j] = mapping_array[array[i, j]]\n",
    "    return array"
   ]
  },
  {
   "cell_type": "code",
   "execution_count": 5,
   "metadata": {},
   "outputs": [
    {
     "data": {
      "text/plain": [
       "<napari._qt.widgets.qt_viewer_dock_widget.QtViewerDockWidget at 0x1e698a91790>"
      ]
     },
     "execution_count": 5,
     "metadata": {},
     "output_type": "execute_result"
    },
    {
     "name": "stdout",
     "output_type": "stream",
     "text": [
      "Out.of.core\n",
      "Stromal2\n",
      "CD68.MP\n",
      "Stromal1\n",
      "CD11c.MY\n",
      "T.regs\n",
      "B.cells\n",
      "CD15.MY\n",
      "Other.immune\n",
      "CD163.MP\n",
      "CD4.T.cells\n",
      "CD8.T.cells\n",
      "Other.MY\n",
      "Cancer\n"
     ]
    }
   ],
   "source": [
    "@magicgui(call_button = 'Show celltype masks')\n",
    "def show_celltypes(mask_path = Path(), labels = Path()):\n",
    "    image = tiff.TiffFile(mask_path, is_ome=False)\n",
    "    z = zarr.open(image.aszarr(), mode='r')\n",
    "    mask_array = z[...]\n",
    "    c_table = pd.read_csv(labels)\n",
    "    cts = c_table['GlobalCellType'].unique()\n",
    "    ids = c_table['Cellid'].unique()\n",
    "    colors = distinctipy.get_colors(len(cts))\n",
    "    for celltype in range(len(cts)):\n",
    "        color = list(colors[celltype])\n",
    "        color.append(1)\n",
    "        print(cts[celltype])\n",
    "        filtered_cellIDs = c_table.loc[c_table['GlobalCellType'] == cts[celltype], 'Cellid'].values \n",
    "        mapping_array = np.zeros(ids.max() + 2, dtype=np.int32)\n",
    "        mapping_array[filtered_cellIDs] = 1\n",
    "        array_filtered = filter_array(mask_array, mapping_array)\n",
    "        array_filtered = np.where(mask_array == 0, 0, mapping_array[mask_array]) \n",
    "        viewer.add_labels(array_filtered, color={0:'black', 1:color}, name= cts[celltype] + '_mask', blending = 'additive')  \n",
    "        \n",
    "viewer.window.add_dock_widget(show_celltypes)"
   ]
  },
  {
   "cell_type": "markdown",
   "metadata": {},
   "source": [
    "### Prepare probabilities column in core's cell types file"
   ]
  },
  {
   "cell_type": "markdown",
   "metadata": {},
   "source": []
  },
  {
   "cell_type": "markdown",
   "metadata": {},
   "source": [
    "#### Available cores from cells_predictions and their molecular profile:\n",
    "| ImageID             | Molecular Profile |\n",
    "|---------------------|-------------------|\n",
    "| TMA_42_961_core100  | BRCAmut/met       |\n",
    "| TMA_42_961_core108  | BRCAmut/met       |\n",
    "| TMA_42_961_core118  | BRCAmut/met       |\n",
    "| TMA_42_961_core127  | BRCAmut/met       |\n",
    "| TMA_42_961_core104  | BRCAmut/met       |\n",
    "| TMA_42_961_core114  | BRCAmut/met       |\n",
    "| TMA_42_961_core91   | BRCAmut/met       |\n",
    "| TMA_42_961_core97   | BRCAmut/met       |\n",
    "| TMA_42_961_core27   | BRCAmut/met       |\n",
    "| TMA_42_961_core36   | BRCAmut/met       |\n",
    "| TMA_42_961_core48   | BRCAmut/met       |\n",
    "| TMA_42_961_core57   | BRCAmut/met       |\n",
    "| TMA_42_961_core68   | BRCAmut/met       |\n",
    "| TMA_43_616_core78   | BRCAmut/met       |\n",
    "| TMA_43_616_core79   | BRCAmut/met       |\n",
    "| TMA_43_616_core80   | BRCAmut/met       |\n",
    "| TMA_43_616_core83   | BRCAmut/met       |\n",
    "| TMA_44_810_core16   | BRCAmut/met       |\n",
    "| TMA_44_810_core18   | BRCAmut/met       |\n",
    "| TMA_44_810_core22   | BRCAmut/met       |\n",
    "| TMA_44_810_core23   | BRCAmut/met       |\n",
    "| TMA_44_810_core41   | BRCAmut/met       |\n",
    "| TMA_44_810_core44   | BRCAmut/met       |\n",
    "| TMA_44_810_core46   | BRCAmut/met       |\n",
    "| TMA_44_810_core45   | BRCAmut/met       |\n",
    "| TMA_44_810_core47   | BRCAmut/met       |\n",
    "| TMA_44_810_core48   | BRCAmut/met       |\n",
    "| TMA_44_810_core51   | BRCAmut/met       |\n",
    "| TMA_42_961_core107  | HRP               |\n",
    "| TMA_42_961_core117  | HRP               |\n",
    "| TMA_42_961_core94   | HRP               |\n",
    "| TMA_42_961_core99   | HRP               |\n",
    "| TMA_42_961_core119  | HRP               |\n",
    "| TMA_42_961_core95   | HRP               |\n",
    "| TMA_43_616_core55   | HRP               |\n",
    "| TMA_43_616_core59   | HRP               |\n",
    "| TMA_43_616_core62   | HRP               |\n",
    "| TMA_43_616_core63   | HRP               |\n"
   ]
  },
  {
   "cell_type": "code",
   "execution_count": 7,
   "metadata": {},
   "outputs": [],
   "source": [
    "def prep_core_df(stromal_cells_prob_df,core):\n",
    "    # Create a new column 'cell' with the extracted values\n",
    "    stromal_cells_prob_df['core'] = stromal_cells_prob_df['CellId'].str.extract(r'_core(\\d+)_')\n",
    "\n",
    "    stromal_cells_prob_df = stromal_cells_prob_df[stromal_cells_prob_df['core'] == core]\n",
    "    stromal_cells_prob_df = stromal_cells_prob_df[['CellId','proba_0']]\n",
    "    stromal_cells_prob_df.head(5)\n",
    "\n",
    "    # Create a new column 'cell' with the extracted values\n",
    "    stromal_cells_prob_df['Cellid'] = stromal_cells_prob_df['CellId'].str.extract(r'_c(\\d+)')\n",
    "\n",
    "    # Convert the 'cell' column to numeric (integer) data type\n",
    "    stromal_cells_prob_df['Cellid'] = pd.to_numeric(stromal_cells_prob_df['Cellid'], errors='coerce')\n",
    "\n",
    "    return stromal_cells_prob_df\n",
    "\n",
    "# Define cell predictions file location\n",
    "file_name = r\"P:\\h345\\afarkkilab\\Projects\\NKI\\ML_results\\Stromal_cells\\cells_predictions.csv\"\n",
    "stromal_cells_prob_df = pd.read_csv(file_name)\n",
    "\n",
    "# Read core's cell type file: CHANGE CORE NUMBER\n",
    "cell_types_df = pd.read_csv(r\"P:\\h345\\afarkkilab\\Projects\\NKI\\TMA_42_961\\Tribus_Cell-segment2\\core95_cellTypesNapari.csv\")\n",
    "\n",
    "# Add prob column to core's cell type file: CHANGE CORE NUMBER\n",
    "stromal_cells_prob_df = prep_core_df(stromal_cells_prob_df,'95')\n",
    "# Merge the two DataFrames based on the 'cell' column\n",
    "merged_df = cell_types_df.merge(stromal_cells_prob_df[['Cellid','proba_0']], on='Cellid', how='left')\n",
    "\n",
    "# Save file: CHANGE CORE NUMBER\n",
    "merged_df.to_csv(r\"P:\\h345\\afarkkilab\\Projects\\NKI\\TMA_42_961\\Tribus_Cell-segment2\\core95_cellTypesNapari_prob.csv\")"
   ]
  },
  {
   "cell_type": "markdown",
   "metadata": {},
   "source": [
    "### Add widget for visualising probabilities of cells being BRCAmut"
   ]
  },
  {
   "cell_type": "code",
   "execution_count": 8,
   "metadata": {},
   "outputs": [
    {
     "data": {
      "text/plain": [
       "<napari._qt.widgets.qt_viewer_dock_widget.QtViewerDockWidget at 0x1e6a70650d0>"
      ]
     },
     "execution_count": 8,
     "metadata": {},
     "output_type": "execute_result"
    }
   ],
   "source": [
    "class Marker(enum.Enum):\n",
    "    prob = 'proba_0'\n",
    "\n",
    "@magicgui(call_button='Get Marker Intensity Mask', layout='vertical')\n",
    "def get_marker_intensity_mask(marker: Marker, mask=Path(), marker_intensity_table=Path()):\n",
    "    table_name = str(marker_intensity_table)\n",
    "    whole_mask_name = Path(mask).stem\n",
    "\n",
    "    df = pd.read_csv(table_name)\n",
    "    df_core = df[df.Core_Names == whole_mask_name]\n",
    "    df_core_cellid = df_core.set_index('Cellid')\n",
    "\n",
    "    image = tiff.TiffFile(mask, is_ome=False)\n",
    "    z = zarr.open(image.aszarr(), mode='r')\n",
    "    whole_mask = z[...]\n",
    "\n",
    "    # Initialize a fill value that is outside the range of your \"prob\" values\n",
    "    fill_value = -1.0\n",
    "\n",
    "    # Initialize an array to hold the marker intensity mask\n",
    "    MarkerMask = np.zeros(shape=whole_mask.shape, dtype=np.float64)\n",
    "\n",
    "    rows = whole_mask.shape[0]\n",
    "    cols = whole_mask.shape[1]\n",
    "\n",
    "    # Loop through each pixel in the image\n",
    "    for i in range(rows):\n",
    "        for j in range(cols):\n",
    "            id = whole_mask[i, j]\n",
    "            # Check if the id is in the index of the DataFrame\n",
    "            if id in df_core_cellid.index:\n",
    "                prob_value = df_core_cellid[marker.value][id]\n",
    "                # Check if the prob_value is a valid floating-point number\n",
    "                if isinstance(prob_value, np.float64) and not np.isnan(prob_value):\n",
    "                    # Assign the prob_value to the corresponding location in MarkerMask\n",
    "                    MarkerMask[i, j] = prob_value\n",
    "    \n",
    "    # Apply colormap only to cells with non-NaN values using masking\n",
    "    viewer.add_image(\n",
    "        np.expand_dims(MarkerMask, axis=0),\n",
    "        name=(marker.value + '_intensity'),\n",
    "        colormap='inferno',\n",
    "        scale=(1, 1), \n",
    "        visible=True,\n",
    "    )\n",
    "\n",
    "viewer.window.add_dock_widget(get_marker_intensity_mask, area='right')"
   ]
  }
 ],
 "metadata": {
  "anaconda-cloud": {},
  "kernelspec": {
   "display_name": "Python 3 (ipykernel)",
   "language": "python",
   "name": "python3"
  },
  "language_info": {
   "codemirror_mode": {
    "name": "ipython",
    "version": 3
   },
   "file_extension": ".py",
   "mimetype": "text/x-python",
   "name": "python",
   "nbconvert_exporter": "python",
   "pygments_lexer": "ipython3",
   "version": "3.9.16"
  }
 },
 "nbformat": 4,
 "nbformat_minor": 1
}
